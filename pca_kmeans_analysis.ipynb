{
 "cells": [
  {
   "cell_type": "code",
   "execution_count": null,
   "id": "3f360cf1",
   "metadata": {},
   "outputs": [],
   "source": [
    "import pandas as pd\n",
    "import numpy as np\n",
    "import matplotlib.pyplot as plt\n",
    "from sklearn.preprocessing import StandardScaler\n",
    "from sklearn.decomposition import PCA\n",
    "from sklearn.cluster import KMeans\n",
    "from sklearn.ensemble import IsolationForest"
   ]
  },
  {
   "cell_type": "code",
   "execution_count": null,
   "id": "34368863",
   "metadata": {},
   "outputs": [],
   "source": [
    "# Change this to your actual file path on lxplus\n",
    "data_file = \"Berlisov_Monography_Sarmatian_burials.csv\"\n",
    "df = pd.read_csv(data_file, header=None)\n",
    "df.head()  # Show first few rows"
   ]
  },
  {
   "cell_type": "code",
   "execution_count": null,
   "id": "15d72e68",
   "metadata": {},
   "outputs": [],
   "source": [
    "ids = df.iloc[:, 0].values  # First column = event ID\n",
    "X = df.iloc[:, 1:].values   # All other columns = features\n",
    "\n",
    "print(f\"Loaded {X.shape[0]} events with {X.shape[1]} features each.\")"
   ]
  },
  {
   "cell_type": "code",
   "execution_count": null,
   "id": "201551fe",
   "metadata": {},
   "outputs": [],
   "source": [
    "scaler = StandardScaler()\n",
    "X_scaled = scaler.fit_transform(X)"
   ]
  },
  {
   "cell_type": "code",
   "execution_count": null,
   "id": "d846db8b",
   "metadata": {},
   "outputs": [],
   "source": [
    "pca = PCA(n_components=2)\n",
    "X_pca = pca.fit_transform(X_scaled)\n",
    "\n",
    "plt.figure(figsize=(8,6))\n",
    "plt.scatter(X_pca[:, 0], X_pca[:, 1], s=10)\n",
    "plt.title(\"PCA Projection to 2D\")\n",
    "plt.xlabel(\"PC1\")\n",
    "plt.ylabel(\"PC2\")\n",
    "plt.grid(True)\n",
    "plt.show()"
   ]
  },
  {
   "cell_type": "code",
   "execution_count": null,
   "id": "aedbf51c",
   "metadata": {},
   "outputs": [],
   "source": [
    "kmeans = KMeans(n_clusters=3, random_state=0)\n",
    "labels = kmeans.fit_predict(X_scaled)\n",
    "\n",
    "plt.figure(figsize=(8,6))\n",
    "plt.scatter(X_pca[:, 0], X_pca[:, 1], c=labels, cmap='tab10', s=10)\n",
    "plt.title(\"KMeans Clustering on PCA Projection\")\n",
    "plt.xlabel(\"PC1\")\n",
    "plt.ylabel(\"PC2\")\n",
    "plt.grid(True)\n",
    "plt.show()"
   ]
  },
  {
   "cell_type": "code",
   "execution_count": null,
   "id": "dc345219",
   "metadata": {},
   "outputs": [],
   "source": [
    "iso = IsolationForest(contamination=0.01, random_state=0)\n",
    "outliers = iso.fit_predict(X_scaled)\n",
    "colors = np.where(outliers == -1, 'red', 'gray')\n",
    "\n",
    "plt.figure(figsize=(8,6))\n",
    "plt.scatter(X_pca[:, 0], X_pca[:, 1], c=colors, s=10)\n",
    "plt.title(\"Isolation Forest Anomalies on PCA\")\n",
    "plt.xlabel(\"PC1\")\n",
    "plt.ylabel(\"PC2\")\n",
    "plt.grid(True)\n",
    "plt.show()"
   ]
  },
  {
   "cell_type": "code",
   "execution_count": null,
   "id": "7af8a076",
   "metadata": {},
   "outputs": [],
   "source": [
    "for cluster_id in range(3):\n",
    "    cluster_data = X[labels == cluster_id]\n",
    "    mean_vector = cluster_data.mean(axis=0)\n",
    "    print(f\"Cluster {cluster_id}: Mean of first 10 features:\\n{mean_vector[:10]}\")"
   ]
  },
  {
   "cell_type": "code",
   "execution_count": null,
   "id": "b0c5368d",
   "metadata": {},
   "outputs": [],
   "source": [
    "pca_full = PCA()\n",
    "pca_full.fit(X_scaled)\n",
    "\n",
    "plt.figure(figsize=(8,6))\n",
    "plt.plot(np.cumsum(pca_full.explained_variance_ratio_))\n",
    "plt.xlabel(\"Number of Components\")\n",
    "plt.ylabel(\"Cumulative Explained Variance\")\n",
    "plt.title(\"Scree Plot: Variance vs. # Components\")\n",
    "plt.grid(True)\n",
    "plt.show()"
   ]
  }
 ],
 "metadata": {},
 "nbformat": 4,
 "nbformat_minor": 5
}
